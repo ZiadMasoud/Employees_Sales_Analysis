{
  "cells": [
    {
      "cell_type": "markdown",
      "metadata": {
        "id": "XkILgsQnDbT3"
      },
      "source": [
        "# Part 1: Data Cleaning and Preparation (Python)"
      ]
    },
    {
      "cell_type": "code",
      "execution_count": 1,
      "metadata": {
        "id": "7fP9L7W7DWwx"
      },
      "outputs": [],
      "source": [
        "import pandas as pd\n",
        "import numpy as np"
      ]
    },
    {
      "cell_type": "code",
      "execution_count": 2,
      "metadata": {
        "id": "jZpuXb-ZEHos"
      },
      "outputs": [],
      "source": [
        "# Load the data\n",
        "sales_df = pd.read_csv('sales_data.csv')\n",
        "employee_df = pd.read_csv('employee_data.csv')"
      ]
    },
    {
      "cell_type": "markdown",
      "metadata": {
        "id": "doKub0KTGJSD"
      },
      "source": [
        "#  Clean Sales Data:"
      ]
    },
    {
      "cell_type": "code",
      "execution_count": 3,
      "metadata": {
        "colab": {
          "base_uri": "https://localhost:8080/"
        },
        "id": "9lleHIY5F0We",
        "outputId": "fe9b595d-579f-4093-98d2-c9748f653c50"
      },
      "outputs": [
        {
          "name": "stdout",
          "output_type": "stream",
          "text": [
            "   TransactionID CustomerID  SalesAmount PurchaseDate  EmployeeID\n",
            "0         T00001      C0001       2824.0   01-11-2022           1\n",
            "1         T00002      C0002       1409.0   19-11-2023           2\n",
            "2         T00003      C0003       5506.0   09-10-2023           3\n",
            "3         T00004      C0004       5012.0   04-02-2022           3\n",
            "4         T00005      C0005       4657.0   28-10-2024           7\n",
            "..           ...        ...          ...          ...         ...\n",
            "95        T00096      C0096       4593.0   13-08-2022           5\n",
            "96        T00097      C0097       3266.0   18-09-2023           8\n",
            "97        T00098      C0098       9348.0   22-05-2022           4\n",
            "98        T00099      C0099       9085.0   16-11-2022           9\n",
            "99        T00100      C0100       2489.0   22-06-2024           3\n",
            "\n",
            "[100 rows x 5 columns]\n"
          ]
        },
        {
          "name": "stderr",
          "output_type": "stream",
          "text": [
            "<>:2: SyntaxWarning: invalid escape sequence '\\$'\n",
            "<>:2: SyntaxWarning: invalid escape sequence '\\$'\n",
            "C:\\Users\\ziadz\\AppData\\Local\\Temp\\ipykernel_13856\\679283858.py:2: SyntaxWarning: invalid escape sequence '\\$'\n",
            "  sales_df['SalesAmount'] = sales_df['SalesAmount'].replace('[\\$,]', '', regex=True).astype(float)\n"
          ]
        }
      ],
      "source": [
        "# Convert `SalesAmount` to numeric after removing symbols and commas.\n",
        "sales_df['SalesAmount'] = sales_df['SalesAmount'].replace('[\\$,]', '', regex=True).astype(float)\n",
        "sales_df['SalesAmount'] = pd.to_numeric(sales_df['SalesAmount'], errors='coerce')\n",
        "print(sales_df)"
      ]
    },
    {
      "cell_type": "code",
      "execution_count": 4,
      "metadata": {
        "colab": {
          "base_uri": "https://localhost:8080/",
          "height": 423
        },
        "id": "loc_Kf6JGmRp",
        "outputId": "f5489bfc-9625-4cf3-9675-06e737d71b4e"
      },
      "outputs": [
        {
          "data": {
            "text/html": [
              "<div>\n",
              "<style scoped>\n",
              "    .dataframe tbody tr th:only-of-type {\n",
              "        vertical-align: middle;\n",
              "    }\n",
              "\n",
              "    .dataframe tbody tr th {\n",
              "        vertical-align: top;\n",
              "    }\n",
              "\n",
              "    .dataframe thead th {\n",
              "        text-align: right;\n",
              "    }\n",
              "</style>\n",
              "<table border=\"1\" class=\"dataframe\">\n",
              "  <thead>\n",
              "    <tr style=\"text-align: right;\">\n",
              "      <th></th>\n",
              "      <th>TransactionID</th>\n",
              "      <th>CustomerID</th>\n",
              "      <th>SalesAmount</th>\n",
              "      <th>PurchaseDate</th>\n",
              "      <th>EmployeeID</th>\n",
              "    </tr>\n",
              "  </thead>\n",
              "  <tbody>\n",
              "    <tr>\n",
              "      <th>0</th>\n",
              "      <td>T00001</td>\n",
              "      <td>C0001</td>\n",
              "      <td>2824.0</td>\n",
              "      <td>2022-11-01</td>\n",
              "      <td>1</td>\n",
              "    </tr>\n",
              "    <tr>\n",
              "      <th>1</th>\n",
              "      <td>T00002</td>\n",
              "      <td>C0002</td>\n",
              "      <td>1409.0</td>\n",
              "      <td>2023-11-19</td>\n",
              "      <td>2</td>\n",
              "    </tr>\n",
              "    <tr>\n",
              "      <th>2</th>\n",
              "      <td>T00003</td>\n",
              "      <td>C0003</td>\n",
              "      <td>5506.0</td>\n",
              "      <td>2023-10-09</td>\n",
              "      <td>3</td>\n",
              "    </tr>\n",
              "    <tr>\n",
              "      <th>3</th>\n",
              "      <td>T00004</td>\n",
              "      <td>C0004</td>\n",
              "      <td>5012.0</td>\n",
              "      <td>2022-02-04</td>\n",
              "      <td>3</td>\n",
              "    </tr>\n",
              "    <tr>\n",
              "      <th>4</th>\n",
              "      <td>T00005</td>\n",
              "      <td>C0005</td>\n",
              "      <td>4657.0</td>\n",
              "      <td>2024-10-28</td>\n",
              "      <td>7</td>\n",
              "    </tr>\n",
              "    <tr>\n",
              "      <th>...</th>\n",
              "      <td>...</td>\n",
              "      <td>...</td>\n",
              "      <td>...</td>\n",
              "      <td>...</td>\n",
              "      <td>...</td>\n",
              "    </tr>\n",
              "    <tr>\n",
              "      <th>95</th>\n",
              "      <td>T00096</td>\n",
              "      <td>C0096</td>\n",
              "      <td>4593.0</td>\n",
              "      <td>2022-08-13</td>\n",
              "      <td>5</td>\n",
              "    </tr>\n",
              "    <tr>\n",
              "      <th>96</th>\n",
              "      <td>T00097</td>\n",
              "      <td>C0097</td>\n",
              "      <td>3266.0</td>\n",
              "      <td>2023-09-18</td>\n",
              "      <td>8</td>\n",
              "    </tr>\n",
              "    <tr>\n",
              "      <th>97</th>\n",
              "      <td>T00098</td>\n",
              "      <td>C0098</td>\n",
              "      <td>9348.0</td>\n",
              "      <td>2022-05-22</td>\n",
              "      <td>4</td>\n",
              "    </tr>\n",
              "    <tr>\n",
              "      <th>98</th>\n",
              "      <td>T00099</td>\n",
              "      <td>C0099</td>\n",
              "      <td>9085.0</td>\n",
              "      <td>2022-11-16</td>\n",
              "      <td>9</td>\n",
              "    </tr>\n",
              "    <tr>\n",
              "      <th>99</th>\n",
              "      <td>T00100</td>\n",
              "      <td>C0100</td>\n",
              "      <td>2489.0</td>\n",
              "      <td>2024-06-22</td>\n",
              "      <td>3</td>\n",
              "    </tr>\n",
              "  </tbody>\n",
              "</table>\n",
              "<p>100 rows × 5 columns</p>\n",
              "</div>"
            ],
            "text/plain": [
              "   TransactionID CustomerID  SalesAmount PurchaseDate  EmployeeID\n",
              "0         T00001      C0001       2824.0   2022-11-01           1\n",
              "1         T00002      C0002       1409.0   2023-11-19           2\n",
              "2         T00003      C0003       5506.0   2023-10-09           3\n",
              "3         T00004      C0004       5012.0   2022-02-04           3\n",
              "4         T00005      C0005       4657.0   2024-10-28           7\n",
              "..           ...        ...          ...          ...         ...\n",
              "95        T00096      C0096       4593.0   2022-08-13           5\n",
              "96        T00097      C0097       3266.0   2023-09-18           8\n",
              "97        T00098      C0098       9348.0   2022-05-22           4\n",
              "98        T00099      C0099       9085.0   2022-11-16           9\n",
              "99        T00100      C0100       2489.0   2024-06-22           3\n",
              "\n",
              "[100 rows x 5 columns]"
            ]
          },
          "execution_count": 4,
          "metadata": {},
          "output_type": "execute_result"
        }
      ],
      "source": [
        "# Standardize `PurchaseDate` to pandas `datetime`.\n",
        "sales_df['PurchaseDate'] = pd.to_datetime(sales_df['PurchaseDate'], errors='coerce', dayfirst=True)\n",
        "sales_df"
      ]
    },
    {
      "cell_type": "code",
      "execution_count": 5,
      "metadata": {
        "colab": {
          "base_uri": "https://localhost:8080/",
          "height": 423
        },
        "id": "icsDSAmbH33f",
        "outputId": "fd282dfe-854e-4147-ac3f-e3007ad18111"
      },
      "outputs": [
        {
          "data": {
            "text/plain": [
              "TransactionID            object\n",
              "CustomerID               object\n",
              "SalesAmount             float64\n",
              "PurchaseDate     datetime64[ns]\n",
              "EmployeeID                int64\n",
              "dtype: object"
            ]
          },
          "execution_count": 5,
          "metadata": {},
          "output_type": "execute_result"
        }
      ],
      "source": [
        "# Handle missing or invalid data by replacing them with appropriate defaults (e.g., `NaN` for missing data).\n",
        "sales_df.fillna(0 ,inplace=True)\n",
        "sales_df\n",
        "sales_df.dtypes"
      ]
    },
    {
      "cell_type": "markdown",
      "metadata": {
        "id": "VtrE9rNjK9FI"
      },
      "source": [
        "# Clean Employee Data:\n"
      ]
    },
    {
      "cell_type": "code",
      "execution_count": 6,
      "metadata": {
        "colab": {
          "base_uri": "https://localhost:8080/",
          "height": 363
        },
        "id": "9ZmU8iO4Mm9m",
        "outputId": "cdd3049d-6677-44c4-9b54-040fb17e203d"
      },
      "outputs": [
        {
          "data": {
            "text/html": [
              "<div>\n",
              "<style scoped>\n",
              "    .dataframe tbody tr th:only-of-type {\n",
              "        vertical-align: middle;\n",
              "    }\n",
              "\n",
              "    .dataframe tbody tr th {\n",
              "        vertical-align: top;\n",
              "    }\n",
              "\n",
              "    .dataframe thead th {\n",
              "        text-align: right;\n",
              "    }\n",
              "</style>\n",
              "<table border=\"1\" class=\"dataframe\">\n",
              "  <thead>\n",
              "    <tr style=\"text-align: right;\">\n",
              "      <th></th>\n",
              "      <th>EmployeeID</th>\n",
              "      <th>Name</th>\n",
              "      <th>DepartmentID</th>\n",
              "      <th>Salary</th>\n",
              "      <th>SupervisorID</th>\n",
              "    </tr>\n",
              "  </thead>\n",
              "  <tbody>\n",
              "    <tr>\n",
              "      <th>0</th>\n",
              "      <td>1</td>\n",
              "      <td>Cheyenne Padilla</td>\n",
              "      <td>5</td>\n",
              "      <td>$96,438</td>\n",
              "      <td>NaN</td>\n",
              "    </tr>\n",
              "    <tr>\n",
              "      <th>1</th>\n",
              "      <td>2</td>\n",
              "      <td>Michael Martin</td>\n",
              "      <td>5</td>\n",
              "      <td>$105,519</td>\n",
              "      <td>6.0</td>\n",
              "    </tr>\n",
              "    <tr>\n",
              "      <th>2</th>\n",
              "      <td>3</td>\n",
              "      <td>Tim Wright</td>\n",
              "      <td>4</td>\n",
              "      <td>$103,883</td>\n",
              "      <td>5.0</td>\n",
              "    </tr>\n",
              "    <tr>\n",
              "      <th>3</th>\n",
              "      <td>4</td>\n",
              "      <td>Kristy Archer</td>\n",
              "      <td>2</td>\n",
              "      <td>$111,213</td>\n",
              "      <td>1.0</td>\n",
              "    </tr>\n",
              "    <tr>\n",
              "      <th>4</th>\n",
              "      <td>5</td>\n",
              "      <td>Robert Rios</td>\n",
              "      <td>4</td>\n",
              "      <td>$145,561</td>\n",
              "      <td>3.0</td>\n",
              "    </tr>\n",
              "    <tr>\n",
              "      <th>5</th>\n",
              "      <td>6</td>\n",
              "      <td>Gregory Casey</td>\n",
              "      <td>4</td>\n",
              "      <td>$57,100</td>\n",
              "      <td>3.0</td>\n",
              "    </tr>\n",
              "    <tr>\n",
              "      <th>6</th>\n",
              "      <td>7</td>\n",
              "      <td>Douglas Huber</td>\n",
              "      <td>2</td>\n",
              "      <td>$138,259</td>\n",
              "      <td>3.0</td>\n",
              "    </tr>\n",
              "    <tr>\n",
              "      <th>7</th>\n",
              "      <td>8</td>\n",
              "      <td>Bobby Browning</td>\n",
              "      <td>1</td>\n",
              "      <td>$135,649</td>\n",
              "      <td>8.0</td>\n",
              "    </tr>\n",
              "    <tr>\n",
              "      <th>8</th>\n",
              "      <td>9</td>\n",
              "      <td>Crystal Wilson</td>\n",
              "      <td>1</td>\n",
              "      <td>$134,696</td>\n",
              "      <td>7.0</td>\n",
              "    </tr>\n",
              "    <tr>\n",
              "      <th>9</th>\n",
              "      <td>10</td>\n",
              "      <td>Tammy Adams</td>\n",
              "      <td>4</td>\n",
              "      <td>$62,899</td>\n",
              "      <td>2.0</td>\n",
              "    </tr>\n",
              "  </tbody>\n",
              "</table>\n",
              "</div>"
            ],
            "text/plain": [
              "   EmployeeID              Name  DepartmentID    Salary  SupervisorID\n",
              "0           1  Cheyenne Padilla             5   $96,438           NaN\n",
              "1           2    Michael Martin             5  $105,519           6.0\n",
              "2           3        Tim Wright             4  $103,883           5.0\n",
              "3           4     Kristy Archer             2  $111,213           1.0\n",
              "4           5       Robert Rios             4  $145,561           3.0\n",
              "5           6     Gregory Casey             4   $57,100           3.0\n",
              "6           7     Douglas Huber             2  $138,259           3.0\n",
              "7           8    Bobby Browning             1  $135,649           8.0\n",
              "8           9    Crystal Wilson             1  $134,696           7.0\n",
              "9          10       Tammy Adams             4   $62,899           2.0"
            ]
          },
          "execution_count": 6,
          "metadata": {},
          "output_type": "execute_result"
        }
      ],
      "source": [
        "employee_df"
      ]
    },
    {
      "cell_type": "code",
      "execution_count": 7,
      "metadata": {
        "colab": {
          "base_uri": "https://localhost:8080/",
          "height": 363
        },
        "id": "1mg85cVSLCYG",
        "outputId": "ebca6554-cffe-4d3c-bb54-92e2802d2b78"
      },
      "outputs": [
        {
          "name": "stderr",
          "output_type": "stream",
          "text": [
            "<>:2: SyntaxWarning: invalid escape sequence '\\$'\n",
            "<>:2: SyntaxWarning: invalid escape sequence '\\$'\n",
            "C:\\Users\\ziadz\\AppData\\Local\\Temp\\ipykernel_13856\\3334977909.py:2: SyntaxWarning: invalid escape sequence '\\$'\n",
            "  employee_df['Salary'] = employee_df['Salary'].replace('[\\$,]', '', regex=True).astype(float)\n"
          ]
        },
        {
          "data": {
            "text/html": [
              "<div>\n",
              "<style scoped>\n",
              "    .dataframe tbody tr th:only-of-type {\n",
              "        vertical-align: middle;\n",
              "    }\n",
              "\n",
              "    .dataframe tbody tr th {\n",
              "        vertical-align: top;\n",
              "    }\n",
              "\n",
              "    .dataframe thead th {\n",
              "        text-align: right;\n",
              "    }\n",
              "</style>\n",
              "<table border=\"1\" class=\"dataframe\">\n",
              "  <thead>\n",
              "    <tr style=\"text-align: right;\">\n",
              "      <th></th>\n",
              "      <th>EmployeeID</th>\n",
              "      <th>Name</th>\n",
              "      <th>DepartmentID</th>\n",
              "      <th>Salary</th>\n",
              "      <th>SupervisorID</th>\n",
              "    </tr>\n",
              "  </thead>\n",
              "  <tbody>\n",
              "    <tr>\n",
              "      <th>0</th>\n",
              "      <td>1</td>\n",
              "      <td>Cheyenne Padilla</td>\n",
              "      <td>5</td>\n",
              "      <td>96438.0</td>\n",
              "      <td>NaN</td>\n",
              "    </tr>\n",
              "    <tr>\n",
              "      <th>1</th>\n",
              "      <td>2</td>\n",
              "      <td>Michael Martin</td>\n",
              "      <td>5</td>\n",
              "      <td>105519.0</td>\n",
              "      <td>6.0</td>\n",
              "    </tr>\n",
              "    <tr>\n",
              "      <th>2</th>\n",
              "      <td>3</td>\n",
              "      <td>Tim Wright</td>\n",
              "      <td>4</td>\n",
              "      <td>103883.0</td>\n",
              "      <td>5.0</td>\n",
              "    </tr>\n",
              "    <tr>\n",
              "      <th>3</th>\n",
              "      <td>4</td>\n",
              "      <td>Kristy Archer</td>\n",
              "      <td>2</td>\n",
              "      <td>111213.0</td>\n",
              "      <td>1.0</td>\n",
              "    </tr>\n",
              "    <tr>\n",
              "      <th>4</th>\n",
              "      <td>5</td>\n",
              "      <td>Robert Rios</td>\n",
              "      <td>4</td>\n",
              "      <td>145561.0</td>\n",
              "      <td>3.0</td>\n",
              "    </tr>\n",
              "    <tr>\n",
              "      <th>5</th>\n",
              "      <td>6</td>\n",
              "      <td>Gregory Casey</td>\n",
              "      <td>4</td>\n",
              "      <td>57100.0</td>\n",
              "      <td>3.0</td>\n",
              "    </tr>\n",
              "    <tr>\n",
              "      <th>6</th>\n",
              "      <td>7</td>\n",
              "      <td>Douglas Huber</td>\n",
              "      <td>2</td>\n",
              "      <td>138259.0</td>\n",
              "      <td>3.0</td>\n",
              "    </tr>\n",
              "    <tr>\n",
              "      <th>7</th>\n",
              "      <td>8</td>\n",
              "      <td>Bobby Browning</td>\n",
              "      <td>1</td>\n",
              "      <td>135649.0</td>\n",
              "      <td>8.0</td>\n",
              "    </tr>\n",
              "    <tr>\n",
              "      <th>8</th>\n",
              "      <td>9</td>\n",
              "      <td>Crystal Wilson</td>\n",
              "      <td>1</td>\n",
              "      <td>134696.0</td>\n",
              "      <td>7.0</td>\n",
              "    </tr>\n",
              "    <tr>\n",
              "      <th>9</th>\n",
              "      <td>10</td>\n",
              "      <td>Tammy Adams</td>\n",
              "      <td>4</td>\n",
              "      <td>62899.0</td>\n",
              "      <td>2.0</td>\n",
              "    </tr>\n",
              "  </tbody>\n",
              "</table>\n",
              "</div>"
            ],
            "text/plain": [
              "   EmployeeID              Name  DepartmentID    Salary  SupervisorID\n",
              "0           1  Cheyenne Padilla             5   96438.0           NaN\n",
              "1           2    Michael Martin             5  105519.0           6.0\n",
              "2           3        Tim Wright             4  103883.0           5.0\n",
              "3           4     Kristy Archer             2  111213.0           1.0\n",
              "4           5       Robert Rios             4  145561.0           3.0\n",
              "5           6     Gregory Casey             4   57100.0           3.0\n",
              "6           7     Douglas Huber             2  138259.0           3.0\n",
              "7           8    Bobby Browning             1  135649.0           8.0\n",
              "8           9    Crystal Wilson             1  134696.0           7.0\n",
              "9          10       Tammy Adams             4   62899.0           2.0"
            ]
          },
          "execution_count": 7,
          "metadata": {},
          "output_type": "execute_result"
        }
      ],
      "source": [
        "# Convert `Salary` to numeric after removing symbols and commas.\n",
        "employee_df['Salary'] = employee_df['Salary'].replace('[\\$,]', '', regex=True).astype(float)\n",
        "employee_df"
      ]
    },
    {
      "cell_type": "code",
      "execution_count": 8,
      "metadata": {
        "colab": {
          "base_uri": "https://localhost:8080/",
          "height": 241
        },
        "id": "tFAej4f1Nq8_",
        "outputId": "0324cdba-9e5b-4016-e67a-506045625d98"
      },
      "outputs": [
        {
          "data": {
            "text/plain": [
              "EmployeeID        int64\n",
              "Name             object\n",
              "DepartmentID      int64\n",
              "Salary          float64\n",
              "SupervisorID    float64\n",
              "dtype: object"
            ]
          },
          "execution_count": 8,
          "metadata": {},
          "output_type": "execute_result"
        }
      ],
      "source": [
        "employee_df['Salary'] = pd.to_numeric(employee_df['Salary'], errors='coerce')\n",
        "employee_df.dtypes"
      ]
    },
    {
      "cell_type": "code",
      "execution_count": 9,
      "metadata": {
        "colab": {
          "base_uri": "https://localhost:8080/",
          "height": 363
        },
        "id": "Ycy9ztRvPQYU",
        "outputId": "09fb53c5-e2c6-4798-d4e9-f61c95bf727e"
      },
      "outputs": [
        {
          "data": {
            "text/html": [
              "<div>\n",
              "<style scoped>\n",
              "    .dataframe tbody tr th:only-of-type {\n",
              "        vertical-align: middle;\n",
              "    }\n",
              "\n",
              "    .dataframe tbody tr th {\n",
              "        vertical-align: top;\n",
              "    }\n",
              "\n",
              "    .dataframe thead th {\n",
              "        text-align: right;\n",
              "    }\n",
              "</style>\n",
              "<table border=\"1\" class=\"dataframe\">\n",
              "  <thead>\n",
              "    <tr style=\"text-align: right;\">\n",
              "      <th></th>\n",
              "      <th>EmployeeID</th>\n",
              "      <th>Name</th>\n",
              "      <th>DepartmentID</th>\n",
              "      <th>Salary</th>\n",
              "      <th>SupervisorID</th>\n",
              "    </tr>\n",
              "  </thead>\n",
              "  <tbody>\n",
              "    <tr>\n",
              "      <th>0</th>\n",
              "      <td>1</td>\n",
              "      <td>Cheyenne Padilla</td>\n",
              "      <td>5</td>\n",
              "      <td>96438.0</td>\n",
              "      <td>NaN</td>\n",
              "    </tr>\n",
              "    <tr>\n",
              "      <th>1</th>\n",
              "      <td>2</td>\n",
              "      <td>Michael Martin</td>\n",
              "      <td>5</td>\n",
              "      <td>105519.0</td>\n",
              "      <td>6.0</td>\n",
              "    </tr>\n",
              "    <tr>\n",
              "      <th>2</th>\n",
              "      <td>3</td>\n",
              "      <td>Tim Wright</td>\n",
              "      <td>4</td>\n",
              "      <td>103883.0</td>\n",
              "      <td>5.0</td>\n",
              "    </tr>\n",
              "    <tr>\n",
              "      <th>3</th>\n",
              "      <td>4</td>\n",
              "      <td>Kristy Archer</td>\n",
              "      <td>2</td>\n",
              "      <td>111213.0</td>\n",
              "      <td>1.0</td>\n",
              "    </tr>\n",
              "    <tr>\n",
              "      <th>4</th>\n",
              "      <td>5</td>\n",
              "      <td>Robert Rios</td>\n",
              "      <td>4</td>\n",
              "      <td>145561.0</td>\n",
              "      <td>3.0</td>\n",
              "    </tr>\n",
              "    <tr>\n",
              "      <th>5</th>\n",
              "      <td>6</td>\n",
              "      <td>Gregory Casey</td>\n",
              "      <td>4</td>\n",
              "      <td>57100.0</td>\n",
              "      <td>3.0</td>\n",
              "    </tr>\n",
              "    <tr>\n",
              "      <th>6</th>\n",
              "      <td>7</td>\n",
              "      <td>Douglas Huber</td>\n",
              "      <td>2</td>\n",
              "      <td>138259.0</td>\n",
              "      <td>3.0</td>\n",
              "    </tr>\n",
              "    <tr>\n",
              "      <th>7</th>\n",
              "      <td>8</td>\n",
              "      <td>Bobby Browning</td>\n",
              "      <td>1</td>\n",
              "      <td>135649.0</td>\n",
              "      <td>8.0</td>\n",
              "    </tr>\n",
              "    <tr>\n",
              "      <th>8</th>\n",
              "      <td>9</td>\n",
              "      <td>Crystal Wilson</td>\n",
              "      <td>1</td>\n",
              "      <td>134696.0</td>\n",
              "      <td>7.0</td>\n",
              "    </tr>\n",
              "    <tr>\n",
              "      <th>9</th>\n",
              "      <td>10</td>\n",
              "      <td>Tammy Adams</td>\n",
              "      <td>4</td>\n",
              "      <td>62899.0</td>\n",
              "      <td>2.0</td>\n",
              "    </tr>\n",
              "  </tbody>\n",
              "</table>\n",
              "</div>"
            ],
            "text/plain": [
              "   EmployeeID              Name  DepartmentID    Salary  SupervisorID\n",
              "0           1  Cheyenne Padilla             5   96438.0           NaN\n",
              "1           2    Michael Martin             5  105519.0           6.0\n",
              "2           3        Tim Wright             4  103883.0           5.0\n",
              "3           4     Kristy Archer             2  111213.0           1.0\n",
              "4           5       Robert Rios             4  145561.0           3.0\n",
              "5           6     Gregory Casey             4   57100.0           3.0\n",
              "6           7     Douglas Huber             2  138259.0           3.0\n",
              "7           8    Bobby Browning             1  135649.0           8.0\n",
              "8           9    Crystal Wilson             1  134696.0           7.0\n",
              "9          10       Tammy Adams             4   62899.0           2.0"
            ]
          },
          "execution_count": 9,
          "metadata": {},
          "output_type": "execute_result"
        }
      ],
      "source": [
        "# Replace inconsistent `EmployeeID` or `SupervisorID` with clean integers.\n",
        "employee_df['SupervisorID'] = pd.to_numeric(employee_df['SupervisorID'], errors='coerce')\n",
        "employee_df"
      ]
    },
    {
      "cell_type": "code",
      "execution_count": 10,
      "metadata": {
        "colab": {
          "base_uri": "https://localhost:8080/"
        },
        "id": "dpBzdXg-LTZQ",
        "outputId": "3ded46b4-7463-4170-8d0f-2c9b445ea5a6"
      },
      "outputs": [
        {
          "name": "stderr",
          "output_type": "stream",
          "text": [
            "C:\\Users\\ziadz\\AppData\\Local\\Temp\\ipykernel_13856\\839830229.py:2: FutureWarning: A value is trying to be set on a copy of a DataFrame or Series through chained assignment using an inplace method.\n",
            "The behavior will change in pandas 3.0. This inplace method will never work because the intermediate object on which we are setting values always behaves as a copy.\n",
            "\n",
            "For example, when doing 'df[col].method(value, inplace=True)', try using 'df.method({col: value}, inplace=True)' or df[col] = df[col].method(value) instead, to perform the operation inplace on the original object.\n",
            "\n",
            "\n",
            "  employee_df['SupervisorID'].replace(np.nan, 0, inplace=True)\n"
          ]
        }
      ],
      "source": [
        "# Handle any missing `SupervisorID` values by filling them with `NaN`\n",
        "employee_df['SupervisorID'].replace(np.nan, 0, inplace=True)"
      ]
    },
    {
      "cell_type": "code",
      "execution_count": 11,
      "metadata": {
        "id": "9bbCgoBURV2G"
      },
      "outputs": [],
      "source": [
        "employee_df['SupervisorID'] = employee_df['SupervisorID'].astype('Int64')"
      ]
    },
    {
      "cell_type": "code",
      "execution_count": 12,
      "metadata": {
        "colab": {
          "base_uri": "https://localhost:8080/",
          "height": 363
        },
        "id": "hUR-4ZlRQwDM",
        "outputId": "320f34a8-9e0d-4e62-8ad9-76c359574895"
      },
      "outputs": [
        {
          "data": {
            "text/html": [
              "<div>\n",
              "<style scoped>\n",
              "    .dataframe tbody tr th:only-of-type {\n",
              "        vertical-align: middle;\n",
              "    }\n",
              "\n",
              "    .dataframe tbody tr th {\n",
              "        vertical-align: top;\n",
              "    }\n",
              "\n",
              "    .dataframe thead th {\n",
              "        text-align: right;\n",
              "    }\n",
              "</style>\n",
              "<table border=\"1\" class=\"dataframe\">\n",
              "  <thead>\n",
              "    <tr style=\"text-align: right;\">\n",
              "      <th></th>\n",
              "      <th>EmployeeID</th>\n",
              "      <th>Name</th>\n",
              "      <th>DepartmentID</th>\n",
              "      <th>Salary</th>\n",
              "      <th>SupervisorID</th>\n",
              "    </tr>\n",
              "  </thead>\n",
              "  <tbody>\n",
              "    <tr>\n",
              "      <th>0</th>\n",
              "      <td>1</td>\n",
              "      <td>Cheyenne Padilla</td>\n",
              "      <td>5</td>\n",
              "      <td>96438.0</td>\n",
              "      <td>0</td>\n",
              "    </tr>\n",
              "    <tr>\n",
              "      <th>1</th>\n",
              "      <td>2</td>\n",
              "      <td>Michael Martin</td>\n",
              "      <td>5</td>\n",
              "      <td>105519.0</td>\n",
              "      <td>6</td>\n",
              "    </tr>\n",
              "    <tr>\n",
              "      <th>2</th>\n",
              "      <td>3</td>\n",
              "      <td>Tim Wright</td>\n",
              "      <td>4</td>\n",
              "      <td>103883.0</td>\n",
              "      <td>5</td>\n",
              "    </tr>\n",
              "    <tr>\n",
              "      <th>3</th>\n",
              "      <td>4</td>\n",
              "      <td>Kristy Archer</td>\n",
              "      <td>2</td>\n",
              "      <td>111213.0</td>\n",
              "      <td>1</td>\n",
              "    </tr>\n",
              "    <tr>\n",
              "      <th>4</th>\n",
              "      <td>5</td>\n",
              "      <td>Robert Rios</td>\n",
              "      <td>4</td>\n",
              "      <td>145561.0</td>\n",
              "      <td>3</td>\n",
              "    </tr>\n",
              "    <tr>\n",
              "      <th>5</th>\n",
              "      <td>6</td>\n",
              "      <td>Gregory Casey</td>\n",
              "      <td>4</td>\n",
              "      <td>57100.0</td>\n",
              "      <td>3</td>\n",
              "    </tr>\n",
              "    <tr>\n",
              "      <th>6</th>\n",
              "      <td>7</td>\n",
              "      <td>Douglas Huber</td>\n",
              "      <td>2</td>\n",
              "      <td>138259.0</td>\n",
              "      <td>3</td>\n",
              "    </tr>\n",
              "    <tr>\n",
              "      <th>7</th>\n",
              "      <td>8</td>\n",
              "      <td>Bobby Browning</td>\n",
              "      <td>1</td>\n",
              "      <td>135649.0</td>\n",
              "      <td>8</td>\n",
              "    </tr>\n",
              "    <tr>\n",
              "      <th>8</th>\n",
              "      <td>9</td>\n",
              "      <td>Crystal Wilson</td>\n",
              "      <td>1</td>\n",
              "      <td>134696.0</td>\n",
              "      <td>7</td>\n",
              "    </tr>\n",
              "    <tr>\n",
              "      <th>9</th>\n",
              "      <td>10</td>\n",
              "      <td>Tammy Adams</td>\n",
              "      <td>4</td>\n",
              "      <td>62899.0</td>\n",
              "      <td>2</td>\n",
              "    </tr>\n",
              "  </tbody>\n",
              "</table>\n",
              "</div>"
            ],
            "text/plain": [
              "   EmployeeID              Name  DepartmentID    Salary  SupervisorID\n",
              "0           1  Cheyenne Padilla             5   96438.0             0\n",
              "1           2    Michael Martin             5  105519.0             6\n",
              "2           3        Tim Wright             4  103883.0             5\n",
              "3           4     Kristy Archer             2  111213.0             1\n",
              "4           5       Robert Rios             4  145561.0             3\n",
              "5           6     Gregory Casey             4   57100.0             3\n",
              "6           7     Douglas Huber             2  138259.0             3\n",
              "7           8    Bobby Browning             1  135649.0             8\n",
              "8           9    Crystal Wilson             1  134696.0             7\n",
              "9          10       Tammy Adams             4   62899.0             2"
            ]
          },
          "execution_count": 12,
          "metadata": {},
          "output_type": "execute_result"
        }
      ],
      "source": [
        "employee_df"
      ]
    },
    {
      "cell_type": "code",
      "execution_count": 13,
      "metadata": {
        "id": "PaIO6flSP-Te"
      },
      "outputs": [],
      "source": [
        "# Save cleaned data\n",
        "sales_df.to_csv('cleaned_sales.csv', index=False)\n",
        "employee_df.to_csv('cleaned_employees.csv', index=False)"
      ]
    }
  ],
  "metadata": {
    "colab": {
      "provenance": []
    },
    "kernelspec": {
      "display_name": "Python 3",
      "name": "python3"
    },
    "language_info": {
      "codemirror_mode": {
        "name": "ipython",
        "version": 3
      },
      "file_extension": ".py",
      "mimetype": "text/x-python",
      "name": "python",
      "nbconvert_exporter": "python",
      "pygments_lexer": "ipython3",
      "version": "3.13.0"
    }
  },
  "nbformat": 4,
  "nbformat_minor": 0
}
